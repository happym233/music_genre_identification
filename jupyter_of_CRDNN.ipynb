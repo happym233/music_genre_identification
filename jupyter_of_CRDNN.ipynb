{
 "cells": [
  {
   "cell_type": "markdown",
   "id": "dac8a73a",
   "metadata": {},
   "source": [
    "todo: create a folder original_data/ with the same path of this file\n",
    ", download dataset https://www.kaggle.com/datasets/andradaolteanu/gtzan-dataset-music-genre-classification\n"
   ]
  },
  {
   "cell_type": "markdown",
   "id": "3ab7fa86",
   "metadata": {},
   "source": [
    "# Data proprocessing"
   ]
  },
  {
   "cell_type": "markdown",
   "id": "70ba0a69",
   "metadata": {},
   "source": [
    "## loading the data"
   ]
  },
  {
   "cell_type": "code",
   "execution_count": 2,
   "id": "abbe8f04",
   "metadata": {},
   "outputs": [
    {
     "name": "stderr",
     "output_type": "stream",
     "text": [
      "The torchaudio backend is switched to 'soundfile'. Note that 'sox_io' is not supported on Windows.\n",
      "The torchaudio backend is switched to 'soundfile'. Note that 'sox_io' is not supported on Windows.\n"
     ]
    }
   ],
   "source": [
    "import os\n",
    "import re\n",
    "import speechbrain as sb\n",
    "from speechbrain.processing.features import STFT, spectral_magnitude, Filterbank\n",
    "import torch\n",
    "import numpy as np"
   ]
  },
  {
   "cell_type": "code",
   "execution_count": 3,
   "id": "9b838562",
   "metadata": {},
   "outputs": [],
   "source": [
    "def get_music_file_names(root='original_data/genres_original', genre_list=[]):\n",
    "    music_name_lists = []\n",
    "    for genre in genre_list:\n",
    "        music_name_lists.append(list(map(lambda x: genre + '/' + x,\n",
    "                                         filter(lambda x: re.match(genre + '.(.*).wav', x),\n",
    "                                                os.listdir(root + genre)))))\n",
    "    return music_name_lists\n"
   ]
  },
  {
   "cell_type": "code",
   "execution_count": 4,
   "id": "e3819732",
   "metadata": {},
   "outputs": [],
   "source": [
    "music_name_lists = get_music_file_names('original_data/genres_original/', \n",
    "                                        ['rock', 'classical', 'metal', 'disco', 'blues', 'reggae', 'country', 'hiphop', 'jazz', 'pop'])"
   ]
  },
  {
   "cell_type": "code",
   "execution_count": 5,
   "id": "1ba2e310",
   "metadata": {},
   "outputs": [],
   "source": [
    "compute_STFT = STFT(\n",
    "    sample_rate=22050, win_length=15, hop_length=20, n_fft=400\n",
    ")\n",
    "\n",
    "compute_fbanks = Filterbank(n_mels=40, sample_rate = 22050)"
   ]
  },
  {
   "cell_type": "code",
   "execution_count": 16,
   "id": "5c9e9f48",
   "metadata": {},
   "outputs": [],
   "source": [
    "genre_num = len(music_name_lists)\n",
    "features = None\n",
    "labels = None\n",
    "for label in range(genre_num):\n",
    "    for music in music_name_lists[label]:\n",
    "        waveform, sample_rate = torchaudio.load('original_data/genres_original/' + music)\n",
    "        frag_num = int(waveform.shape[1] / (10 * sample_rate))\n",
    "        #median = int(waveform.shape[1] / 2)\n",
    "            # split wave into two minor fragments\n",
    "        frag_list = [waveform[0:1, i * 10 * sample_rate: (i + 1) * 10 * sample_rate]\n",
    "                        for i in range(0, frag_num)]\n",
    "            # print(frag_list[0].shape)\n",
    "        wave_fragment_features = [compute_fbanks(spectral_magnitude(compute_STFT(frag))) for frag in frag_list]\n",
    "        if features is None:\n",
    "            features = torch.cat(wave_fragment_features, dim=0)\n",
    "        else:\n",
    "            features = torch.cat((features, torch.cat(wave_fragment_features, dim=0)), dim=0)\n",
    "        if labels is None:\n",
    "            labels = torch.Tensor([label for i in range(frag_num)])\n",
    "        else:\n",
    "            labels = torch.cat((labels, torch.Tensor([label for i in range(frag_num)])), dim=0)\n"
   ]
  },
  {
   "cell_type": "code",
   "execution_count": null,
   "id": "8d01624d",
   "metadata": {},
   "outputs": [],
   "source": []
  }
 ],
 "metadata": {
  "kernelspec": {
   "display_name": "Python 3 (ipykernel)",
   "language": "python",
   "name": "python3"
  },
  "language_info": {
   "codemirror_mode": {
    "name": "ipython",
    "version": 3
   },
   "file_extension": ".py",
   "mimetype": "text/x-python",
   "name": "python",
   "nbconvert_exporter": "python",
   "pygments_lexer": "ipython3",
   "version": "3.9.7"
  }
 },
 "nbformat": 4,
 "nbformat_minor": 5
}
