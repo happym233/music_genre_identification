{
  "cells": [
    {
      "cell_type": "code",
      "execution_count": 1,
      "id": "74ab77a0",
      "metadata": {
        "id": "74ab77a0"
      },
      "outputs": [],
      "source": [
        "import os"
      ]
    },
    {
      "cell_type": "code",
      "execution_count": 2,
      "id": "031503b1",
      "metadata": {
        "colab": {
          "base_uri": "https://localhost:8080/"
        },
        "id": "031503b1",
        "outputId": "0a4e2b12-12a7-497d-a7ab-ac02c0fddd1c"
      },
      "outputs": [
        {
          "output_type": "stream",
          "name": "stdout",
          "text": [
            "Drive already mounted at /content/drive/; to attempt to forcibly remount, call drive.mount(\"/content/drive/\", force_remount=True).\n"
          ]
        }
      ],
      "source": [
        "os.chdir('..')\n",
        "from google.colab import drive\n",
        "drive.mount('/content/drive/')\n",
        "os.chdir('/content/drive/MyDrive/Colab Notebooks/6321_project')"
      ]
    },
    {
      "cell_type": "code",
      "execution_count": 3,
      "id": "5c89e521",
      "metadata": {
        "id": "5c89e521"
      },
      "outputs": [],
      "source": [
        "from data_processor.utils import load_numpy_arrays, numpy_to_tensor\n",
        "from loggers.trainer_loggers import cal_accuracy\n",
        "from models.MusicCRDNN import MusicCRDNN\n",
        "import trainers.SGD_trainer\n",
        "import torch"
      ]
    },
    {
      "cell_type": "code",
      "execution_count": 4,
      "id": "43e033ea",
      "metadata": {
        "id": "43e033ea"
      },
      "outputs": [],
      "source": [
        "X_train, y_train, X_val, y_val, X_test, y_test = load_numpy_arrays(['data_train_X.npy','data_train_y.npy', 'data_val_X.npy','data_val_y.npy', 'data_test_X.npy', 'data_test_y.npy']\n",
        "                  , path_prefix='processed_data/processed_waves/10-genres/')\n",
        "\n",
        "X_train, y_train, X_val, y_val, X_test, y_test = numpy_to_tensor([X_train, y_train, X_val, y_val, X_test, y_test])"
      ]
    },
    {
      "cell_type": "code",
      "execution_count": 5,
      "id": "83a5b91e",
      "metadata": {
        "colab": {
          "base_uri": "https://localhost:8080/"
        },
        "id": "83a5b91e",
        "outputId": "88f4acc7-ec8f-498d-9939-01c7393951ec"
      },
      "outputs": [
        {
          "output_type": "stream",
          "name": "stdout",
          "text": [
            "torch.Size([299, 1, 501, 40])\n"
          ]
        }
      ],
      "source": [
        "n_feat = X_test.shape[2]\n",
        "n_time = X_test.shape[1]\n",
        "X_train = X_train.reshape((-1, 1, n_time, n_feat))\n",
        "X_val = X_val.reshape((-1, 1, n_time, n_feat))\n",
        "X_test = X_test.reshape((-1, 1, n_time, n_feat))\n",
        "print(X_test.shape)"
      ]
    },
    {
      "cell_type": "code",
      "execution_count": 6,
      "id": "406c233b",
      "metadata": {
        "id": "406c233b"
      },
      "outputs": [],
      "source": [
        "model = MusicCRDNN([8, 32, 64, 64], 10, 128, 256, 5, [60])"
      ]
    },
    {
      "cell_type": "code",
      "execution_count": 7,
      "id": "c0645286",
      "metadata": {
        "colab": {
          "base_uri": "https://localhost:8080/"
        },
        "id": "c0645286",
        "outputId": "51a6cf06-231b-48f4-e6ce-8d1de66a5af1"
      },
      "outputs": [
        {
          "output_type": "execute_result",
          "data": {
            "text/plain": [
              "<All keys matched successfully>"
            ]
          },
          "metadata": {},
          "execution_count": 7
        }
      ],
      "source": [
        "model.load_state_dict(torch.load('saved_models/saved_CRNN_wave.pt'))"
      ]
    },
    {
      "cell_type": "code",
      "execution_count": 8,
      "id": "36036ea8",
      "metadata": {
        "id": "36036ea8"
      },
      "outputs": [],
      "source": [
        "# print('training accuracy: %.2f%%' % (cal_accuracy(model, X_train, y_train, True) * 100))"
      ]
    },
    {
      "cell_type": "code",
      "execution_count": 9,
      "id": "5cee0ce0",
      "metadata": {
        "colab": {
          "base_uri": "https://localhost:8080/"
        },
        "id": "5cee0ce0",
        "outputId": "67fef953-675b-4029-bf87-bdf8bba5e445"
      },
      "outputs": [
        {
          "output_type": "stream",
          "name": "stdout",
          "text": [
            "validation accuracy: 85.28%\n"
          ]
        }
      ],
      "source": [
        "print('validation accuracy: %.2f%%' % (cal_accuracy(model, X_val, y_val) * 100))"
      ]
    },
    {
      "cell_type": "code",
      "execution_count": 10,
      "id": "98db8c7f",
      "metadata": {
        "colab": {
          "base_uri": "https://localhost:8080/"
        },
        "id": "98db8c7f",
        "outputId": "3a162e60-7bca-4ebf-c1dc-5d1456b85b22"
      },
      "outputs": [
        {
          "output_type": "stream",
          "name": "stdout",
          "text": [
            "testing accuracy: 84.28%\n"
          ]
        }
      ],
      "source": [
        "print('testing accuracy: %.2f%%' % (cal_accuracy(model, X_test, y_test) * 100))"
      ]
    }
  ],
  "metadata": {
    "kernelspec": {
      "display_name": "Python 3 (ipykernel)",
      "language": "python",
      "name": "python3"
    },
    "language_info": {
      "codemirror_mode": {
        "name": "ipython",
        "version": 3
      },
      "file_extension": ".py",
      "mimetype": "text/x-python",
      "name": "python",
      "nbconvert_exporter": "python",
      "pygments_lexer": "ipython3",
      "version": "3.9.7"
    },
    "colab": {
      "name": "CRDNN_testing_wave.ipynb",
      "provenance": [],
      "collapsed_sections": [],
      "machine_shape": "hm"
    },
    "accelerator": "GPU"
  },
  "nbformat": 4,
  "nbformat_minor": 5
}