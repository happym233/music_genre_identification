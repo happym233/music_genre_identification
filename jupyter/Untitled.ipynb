{
 "cells": [
  {
   "cell_type": "code",
   "execution_count": 1,
   "id": "fabeb270",
   "metadata": {},
   "outputs": [],
   "source": [
    "import os\n",
    "os.chdir('..')"
   ]
  },
  {
   "cell_type": "code",
   "execution_count": 2,
   "id": "4fd9de59",
   "metadata": {},
   "outputs": [],
   "source": [
    "from models.MLP import MLP\n",
    "import torch"
   ]
  },
  {
   "cell_type": "code",
   "execution_count": 3,
   "id": "0c230c55",
   "metadata": {},
   "outputs": [],
   "source": [
    "model = MLP(10, 10, [50])"
   ]
  },
  {
   "cell_type": "code",
   "execution_count": 4,
   "id": "fba76a38",
   "metadata": {},
   "outputs": [
    {
     "name": "stdout",
     "output_type": "stream",
     "text": [
      "torch.Size([10, 10])\n"
     ]
    }
   ],
   "source": [
    "model = MLP(10, 10, [50])\n",
    "inp_tensor = torch.rand([10, 10])\n",
    "out_tensor = model(inp_tensor)\n",
    "print(out_tensor.shape)"
   ]
  },
  {
   "cell_type": "code",
   "execution_count": 5,
   "id": "e7b9de6f",
   "metadata": {},
   "outputs": [],
   "source": [
    "from models.CNN_block import CNN_1d_block, CNN_2d_block, Res1d, Res2d"
   ]
  },
  {
   "cell_type": "code",
   "execution_count": 6,
   "id": "adb43ef9",
   "metadata": {},
   "outputs": [
    {
     "name": "stdout",
     "output_type": "stream",
     "text": [
      "torch.Size([10, 4, 7])\n"
     ]
    }
   ],
   "source": [
    "model = CNN_1d_block(in_channels=1, \n",
    "                     out_channels=4, \n",
    "                     kernel_size=3, \n",
    "                     stride=1, \n",
    "                     padding=0,\n",
    "                     pooling='avg', \n",
    "                     pooling_kernel_size=2, \n",
    "                     pooling_stride=1, \n",
    "                     pooling_padding=0,\n",
    "                     activation='ReLU', \n",
    "                     batch_norm=True)\n",
    "inp_tensor = torch.rand([10, 1, 10])\n",
    "out_tensor = model(inp_tensor)\n",
    "print(out_tensor.shape)"
   ]
  },
  {
   "cell_type": "code",
   "execution_count": 7,
   "id": "3577c86f",
   "metadata": {},
   "outputs": [
    {
     "name": "stdout",
     "output_type": "stream",
     "text": [
      "torch.Size([10, 4, 7, 7])\n"
     ]
    }
   ],
   "source": [
    "model = CNN_2d_block(in_channels=1, \n",
    "                     out_channels=4, \n",
    "                     kernel_size=3, \n",
    "                     stride=1, \n",
    "                     padding=0,\n",
    "                     pooling='avg', \n",
    "                     pooling_kernel_size=2, \n",
    "                     pooling_stride=1, \n",
    "                     pooling_padding=0,\n",
    "                     activation='ReLU', \n",
    "                     batch_norm=True)\n",
    "inp_tensor = torch.rand([10, 1, 10, 10])\n",
    "out_tensor = model(inp_tensor)\n",
    "print(out_tensor.shape)"
   ]
  },
  {
   "cell_type": "code",
   "execution_count": 8,
   "id": "84cac55b",
   "metadata": {},
   "outputs": [
    {
     "name": "stdout",
     "output_type": "stream",
     "text": [
      "torch.Size([10, 2, 10])\n"
     ]
    }
   ],
   "source": [
    "model = Res1d(2)\n",
    "inp_tensor = torch.rand([10, 2, 10])\n",
    "out_tensor = model(inp_tensor)\n",
    "print(out_tensor.shape)"
   ]
  },
  {
   "cell_type": "code",
   "execution_count": 9,
   "id": "dc25cd29",
   "metadata": {},
   "outputs": [
    {
     "name": "stdout",
     "output_type": "stream",
     "text": [
      "torch.Size([10, 2, 10, 10])\n"
     ]
    }
   ],
   "source": [
    "model = Res2d(2)\n",
    "inp_tensor = torch.rand([10, 2, 10, 10])\n",
    "out_tensor = model(inp_tensor)\n",
    "print(out_tensor.shape)"
   ]
  },
  {
   "cell_type": "code",
   "execution_count": 10,
   "id": "95c3a6f7",
   "metadata": {},
   "outputs": [],
   "source": [
    "from models.MusicCNN1d import MusicCNN1d"
   ]
  },
  {
   "cell_type": "code",
   "execution_count": 11,
   "id": "4f2c51f4",
   "metadata": {},
   "outputs": [
    {
     "name": "stdout",
     "output_type": "stream",
     "text": [
      "torch.Size([10, 10])\n"
     ]
    }
   ],
   "source": [
    "model = MusicCNN1d(CNN_input_channels=1, \n",
    "                   CNN_out_channels=[2, 4, 8], \n",
    "                   pooling='avg', \n",
    "                   DNN_input_dim=8, \n",
    "                   DNN_output_dim=10,\n",
    "                   DNN_hidden_dims=[50], \n",
    "                   res_block=False)\n",
    "inp_tensor = torch.rand([10, 1, 100])\n",
    "out_tensor = model(inp_tensor)\n",
    "print(out_tensor.shape)"
   ]
  },
  {
   "cell_type": "code",
   "execution_count": 12,
   "id": "006a7481",
   "metadata": {},
   "outputs": [],
   "source": [
    "from models.MusicCNN2d import MusicCNN2d_2CNNBlock, MusicCNN2d"
   ]
  },
  {
   "cell_type": "code",
   "execution_count": 13,
   "id": "3a84a03a",
   "metadata": {},
   "outputs": [
    {
     "name": "stdout",
     "output_type": "stream",
     "text": [
      "torch.Size([10, 10])\n"
     ]
    }
   ],
   "source": [
    "model = MusicCNN2d_2CNNBlock(out_channel1=8, \n",
    "                   out_channel2=32, \n",
    "                   DNN_input_dim=1152, \n",
    "                   DNN_hidden_dims=[], \n",
    "                   DNN_output_dim=10)\n",
    "inp_tensor = torch.rand([10, 1, 100, 100])\n",
    "out_tensor = model(inp_tensor)\n",
    "print(out_tensor.shape)"
   ]
  },
  {
   "cell_type": "code",
   "execution_count": 14,
   "id": "7708e1b7",
   "metadata": {},
   "outputs": [
    {
     "name": "stdout",
     "output_type": "stream",
     "text": [
      "torch.Size([10, 10])\n"
     ]
    }
   ],
   "source": [
    "model = MusicCNN2d(out_channels=[2, 4, 8], DNN_input_dim=1152, DNN_hidden_dims=[], DNN_output_dim=10, res_block=False)\n",
    "inp_tensor = torch.rand([10, 1, 100, 100])\n",
    "out_tensor = model(inp_tensor)\n",
    "print(out_tensor.shape)"
   ]
  },
  {
   "cell_type": "code",
   "execution_count": 15,
   "id": "46142e17",
   "metadata": {},
   "outputs": [],
   "source": [
    "from models.MusicLSTM import MusicLSTM"
   ]
  },
  {
   "cell_type": "code",
   "execution_count": 16,
   "id": "842a92be",
   "metadata": {},
   "outputs": [
    {
     "name": "stdout",
     "output_type": "stream",
     "text": [
      "torch.Size([10, 10])\n"
     ]
    }
   ],
   "source": [
    "model = MusicLSTM(input_size=10, hidden_size=20, output_size=10, num_layers=4, dropout=0.15, bidirectional=False)\n",
    "inp_tensor = torch.rand([10, 10, 10])\n",
    "out_tensor = model(inp_tensor)\n",
    "print(out_tensor.shape)"
   ]
  },
  {
   "cell_type": "code",
   "execution_count": 17,
   "id": "30559553",
   "metadata": {},
   "outputs": [],
   "source": [
    "from models.MusicCRDNN import MusicCRDNN"
   ]
  },
  {
   "cell_type": "code",
   "execution_count": 18,
   "id": "130d2c67",
   "metadata": {},
   "outputs": [
    {
     "name": "stdout",
     "output_type": "stream",
     "text": [
      "torch.Size([10, 10])\n"
     ]
    }
   ],
   "source": [
    "model = MusicCRDNN(CNN_out_channels=[2, 4, 8, 8], \n",
    "                   output_dim=10, \n",
    "                   LSTM_input_size=48, \n",
    "                   LSTM_hidden_size=80,\n",
    "                   MLP_hidden_dims=[160], \n",
    "                   res_block=False, \n",
    "                   bidirectional=False)\n",
    "inp_tensor = torch.rand([10, 1, 100, 100])\n",
    "out_tensor = model(inp_tensor)\n",
    "print(out_tensor.shape)"
   ]
  },
  {
   "cell_type": "code",
   "execution_count": null,
   "id": "6d68f273",
   "metadata": {},
   "outputs": [],
   "source": []
  }
 ],
 "metadata": {
  "kernelspec": {
   "display_name": "Python 3 (ipykernel)",
   "language": "python",
   "name": "python3"
  },
  "language_info": {
   "codemirror_mode": {
    "name": "ipython",
    "version": 3
   },
   "file_extension": ".py",
   "mimetype": "text/x-python",
   "name": "python",
   "nbconvert_exporter": "python",
   "pygments_lexer": "ipython3",
   "version": "3.9.7"
  }
 },
 "nbformat": 4,
 "nbformat_minor": 5
}
