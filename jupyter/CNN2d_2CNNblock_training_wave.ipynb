{
  "cells": [
    {
      "cell_type": "code",
      "execution_count": 1,
      "id": "ed839cb5",
      "metadata": {
        "id": "ed839cb5"
      },
      "outputs": [],
      "source": [
        "import os"
      ]
    },
    {
      "cell_type": "markdown",
      "id": "7679d887",
      "metadata": {
        "id": "7679d887"
      },
      "source": [
        "## switch to the root dir"
      ]
    },
    {
      "cell_type": "code",
      "execution_count": 2,
      "id": "119057d6",
      "metadata": {
        "scrolled": true,
        "id": "119057d6",
        "outputId": "23ded4e7-2a1b-427f-9b13-43ab237efbb0",
        "colab": {
          "base_uri": "https://localhost:8080/"
        }
      },
      "outputs": [
        {
          "output_type": "execute_result",
          "data": {
            "text/plain": [
              "['opt',\n",
              " 'dev',\n",
              " 'run',\n",
              " 'etc',\n",
              " 'root',\n",
              " 'usr',\n",
              " 'boot',\n",
              " 'srv',\n",
              " 'sys',\n",
              " 'proc',\n",
              " 'var',\n",
              " 'home',\n",
              " 'tmp',\n",
              " 'lib64',\n",
              " 'mnt',\n",
              " 'media',\n",
              " 'lib',\n",
              " 'sbin',\n",
              " 'bin',\n",
              " 'content',\n",
              " '.dockerenv',\n",
              " 'tools',\n",
              " 'datalab',\n",
              " 'tensorflow-1.15.2',\n",
              " 'python-apt',\n",
              " 'lib32']"
            ]
          },
          "metadata": {},
          "execution_count": 2
        }
      ],
      "source": [
        "os.chdir('..')\n",
        "os.listdir()"
      ]
    },
    {
      "cell_type": "code",
      "execution_count": 3,
      "metadata": {
        "colab": {
          "base_uri": "https://localhost:8080/"
        },
        "id": "dQk6dwFbIPVg",
        "outputId": "398dbccc-3717-4c2d-f338-2e55221b7165"
      },
      "outputs": [
        {
          "output_type": "stream",
          "name": "stdout",
          "text": [
            "Drive already mounted at /content/drive/; to attempt to forcibly remount, call drive.mount(\"/content/drive/\", force_remount=True).\n"
          ]
        }
      ],
      "source": [
        "from google.colab import drive\n",
        "drive.mount('/content/drive/')"
      ],
      "id": "dQk6dwFbIPVg"
    },
    {
      "cell_type": "code",
      "source": [
        "os.chdir('/content/drive/MyDrive/Colab Notebooks/6321_project')\n",
        "os.listdir()"
      ],
      "metadata": {
        "colab": {
          "base_uri": "https://localhost:8080/"
        },
        "id": "Ii6beWZHs7rm",
        "outputId": "a1cdfbb9-ccd2-4ffa-c4c1-5cae67e1b6ad"
      },
      "id": "Ii6beWZHs7rm",
      "execution_count": 4,
      "outputs": [
        {
          "output_type": "execute_result",
          "data": {
            "text/plain": [
              "['processed_data',\n",
              " 'trainers',\n",
              " 'models',\n",
              " 'data_processor',\n",
              " 'data_loader',\n",
              " 'jupyter',\n",
              " 'loggers',\n",
              " 'saved_models',\n",
              " 'model']"
            ]
          },
          "metadata": {},
          "execution_count": 4
        }
      ]
    },
    {
      "cell_type": "code",
      "execution_count": 5,
      "id": "bce36ba2",
      "metadata": {
        "id": "bce36ba2"
      },
      "outputs": [],
      "source": [
        "from data_processor.utils import load_numpy_arrays, numpy_to_tensor\n",
        "from models.MusicCNN2d import MusicCNN2d_2CNNBlock\n",
        "import trainers.SGD_trainer\n",
        "from loggers.statistics_loggers import plot_numerical_arrays\n",
        "import torch\n",
        "from torch import nn"
      ]
    },
    {
      "cell_type": "markdown",
      "id": "9ae8ecd3",
      "metadata": {
        "id": "9ae8ecd3"
      },
      "source": [
        "## Load preprocessed data"
      ]
    },
    {
      "cell_type": "code",
      "execution_count": 6,
      "id": "7ba659b0",
      "metadata": {
        "id": "7ba659b0"
      },
      "outputs": [],
      "source": [
        "X_train, y_train, X_val, y_val = load_numpy_arrays(['data_train_X.npy','data_train_y.npy', 'data_val_X.npy','data_val_y.npy']\n",
        "                  , path_prefix='processed_data/processed_waves/10-genres/')"
      ]
    },
    {
      "cell_type": "code",
      "execution_count": 7,
      "id": "18aeb11f",
      "metadata": {
        "id": "18aeb11f"
      },
      "outputs": [],
      "source": [
        "X_train, y_train, X_val, y_val = numpy_to_tensor([X_train, y_train, X_val, y_val])"
      ]
    },
    {
      "cell_type": "code",
      "execution_count": 8,
      "id": "02f61a37",
      "metadata": {
        "id": "02f61a37"
      },
      "outputs": [],
      "source": [
        "y_train = y_train.type(torch.int64)\n",
        "y_val = y_val.type(torch.int64)"
      ]
    },
    {
      "cell_type": "code",
      "execution_count": 9,
      "id": "744b5eb2",
      "metadata": {
        "id": "744b5eb2",
        "colab": {
          "base_uri": "https://localhost:8080/"
        },
        "outputId": "ff596a9e-818f-4864-9a7b-06d3c952d1dc"
      },
      "outputs": [
        {
          "output_type": "stream",
          "name": "stdout",
          "text": [
            "torch.Size([2390, 501, 40])\n",
            "torch.Size([2390])\n"
          ]
        }
      ],
      "source": [
        "print(X_train.shape)\n",
        "print(y_train.shape)"
      ]
    },
    {
      "cell_type": "code",
      "execution_count": 10,
      "id": "64261ccd",
      "metadata": {
        "id": "64261ccd",
        "colab": {
          "base_uri": "https://localhost:8080/"
        },
        "outputId": "f449cc04-71fc-49f1-d8c2-485405c09437"
      },
      "outputs": [
        {
          "output_type": "stream",
          "name": "stdout",
          "text": [
            "tensor([[ 0.4324,  0.5236,  0.5394,  ...,  0.7697,  0.7055,  0.3866],\n",
            "        [ 0.7034,  0.6647,  0.4897,  ...,  0.4557,  0.3747,  0.2816],\n",
            "        [ 0.6879,  0.5071,  0.1787,  ...,  0.1181,  0.2188,  0.3338],\n",
            "        ...,\n",
            "        [ 0.9628,  0.9904,  0.9130,  ...,  0.3897,  0.3010,  0.0407],\n",
            "        [ 0.8118,  0.8570,  0.7527,  ...,  0.1811,  0.2039, -0.0195],\n",
            "        [ 0.4746,  0.5449,  0.4947,  ..., -0.2057, -0.4388, -0.4447]])\n",
            "tensor(0)\n"
          ]
        }
      ],
      "source": [
        "print(X_train[0])\n",
        "print(y_train[0])"
      ]
    },
    {
      "cell_type": "code",
      "execution_count": 11,
      "id": "a258aa2a",
      "metadata": {
        "id": "a258aa2a",
        "colab": {
          "base_uri": "https://localhost:8080/"
        },
        "outputId": "5d6c394a-50f0-49a7-9320-f244be9d1c51"
      },
      "outputs": [
        {
          "output_type": "stream",
          "name": "stdout",
          "text": [
            "torch.Size([299, 501, 40])\n",
            "torch.Size([299])\n"
          ]
        }
      ],
      "source": [
        "print(X_val.shape)\n",
        "print(y_val.shape)"
      ]
    },
    {
      "cell_type": "markdown",
      "id": "048f9e76",
      "metadata": {
        "id": "048f9e76"
      },
      "source": [
        "## Load model\n",
        "\n",
        "1. define model under the folder models\n",
        "2. import and define the model"
      ]
    },
    {
      "cell_type": "code",
      "execution_count": 12,
      "id": "ce695936",
      "metadata": {
        "id": "ce695936"
      },
      "outputs": [],
      "source": [
        "model = MusicCNN2d_2CNNBlock(8, 64, 3968, [600], 10)"
      ]
    },
    {
      "cell_type": "code",
      "execution_count": 13,
      "id": "39f397c0",
      "metadata": {
        "id": "39f397c0"
      },
      "outputs": [],
      "source": [
        "n_feat = X_train.shape[2]\n",
        "n_time = X_train.shape[1]"
      ]
    },
    {
      "cell_type": "code",
      "execution_count": 14,
      "id": "d698407d",
      "metadata": {
        "id": "d698407d",
        "colab": {
          "base_uri": "https://localhost:8080/"
        },
        "outputId": "7e45c432-c238-4f72-e080-335b026219e6"
      },
      "outputs": [
        {
          "output_type": "stream",
          "name": "stdout",
          "text": [
            "torch.Size([10, 1, 501, 40])\n",
            "torch.Size([10, 10])\n"
          ]
        }
      ],
      "source": [
        "X_a = X_train[:10].reshape((-1, 1, n_time, n_feat))\n",
        "print(X_a.shape)\n",
        "pred = model(X_a)\n",
        "print(pred.shape)"
      ]
    },
    {
      "cell_type": "markdown",
      "id": "fdcd3b08",
      "metadata": {
        "id": "fdcd3b08"
      },
      "source": [
        "## Define loss and optimizer"
      ]
    },
    {
      "cell_type": "code",
      "execution_count": 15,
      "metadata": {
        "id": "497cddcb"
      },
      "outputs": [],
      "source": [
        "lr = 0.001\n",
        "batch_size = 500\n",
        "weight_decay = 1e-5\n",
        "num_epoch = 50\n",
        "model_name = 'CNN2d_2CNNBlock'\n",
        "saved_model_name = 'saved_models/saved_' + model_name + '_wave.pt'"
      ],
      "id": "497cddcb"
    },
    {
      "cell_type": "code",
      "execution_count": 16,
      "id": "bf8fb0c1",
      "metadata": {
        "id": "bf8fb0c1"
      },
      "outputs": [],
      "source": [
        "loss = torch.nn.CrossEntropyLoss()\n",
        "optimizer = torch.optim.Adam(model.parameters(), lr=lr, weight_decay=weight_decay)"
      ]
    },
    {
      "cell_type": "markdown",
      "id": "941b60f0",
      "metadata": {
        "id": "941b60f0"
      },
      "source": [
        "## Train\n",
        "\n",
        "use trainers.SGD_trainer.train or define a trainer\n",
        "\n",
        "parameters of SGD_trainer.train\n",
        "- model\n",
        "- train_array: a tuple (X_train, y_train, X_val, y_val)\n",
        "- loss\n",
        "- optimizer\n",
        "- batch_size\n",
        "- num_epoch\n",
        "- device"
      ]
    },
    {
      "cell_type": "code",
      "execution_count": 17,
      "id": "3ddad209",
      "metadata": {
        "id": "3ddad209",
        "colab": {
          "base_uri": "https://localhost:8080/"
        },
        "outputId": "cd8a150c-99c1-4180-82dd-b5b5885b2e8a"
      },
      "outputs": [
        {
          "output_type": "stream",
          "name": "stdout",
          "text": [
            "Epoch  0: loss on final training batch: 1.6594\n",
            "training accuracy: 49.33% validation accuracy: 41.81%\n",
            "Epoch  1: loss on final training batch: 1.1479\n",
            "training accuracy: 67.36% validation accuracy: 53.51%\n",
            "Epoch  2: loss on final training batch: 0.7939\n",
            "training accuracy: 77.99% validation accuracy: 60.20%\n",
            "Epoch  3: loss on final training batch: 0.5002\n",
            "training accuracy: 87.49% validation accuracy: 60.87%\n",
            "Epoch  4: loss on final training batch: 0.3034\n",
            "training accuracy: 93.85% validation accuracy: 62.21%\n",
            "Epoch  5: loss on final training batch: 0.1745\n",
            "training accuracy: 96.99% validation accuracy: 63.21%\n",
            "Epoch  6: loss on final training batch: 0.0996\n",
            "training accuracy: 98.87% validation accuracy: 63.55%\n",
            "Epoch  7: loss on final training batch: 0.0588\n",
            "training accuracy: 99.75% validation accuracy: 60.87%\n",
            "Epoch  8: loss on final training batch: 0.0353\n",
            "training accuracy: 99.83% validation accuracy: 61.20%\n",
            "Epoch  9: loss on final training batch: 0.0238\n",
            "training accuracy: 99.92% validation accuracy: 62.21%\n",
            "Epoch 10: loss on final training batch: 0.0171\n",
            "training accuracy: 99.92% validation accuracy: 62.54%\n",
            "Epoch 11: loss on final training batch: 0.0128\n",
            "training accuracy: 99.92% validation accuracy: 61.87%\n",
            "Epoch 12: loss on final training batch: 0.0101\n",
            "training accuracy: 99.92% validation accuracy: 62.21%\n",
            "Epoch 13: loss on final training batch: 0.0085\n",
            "training accuracy: 99.92% validation accuracy: 63.55%\n",
            "Epoch 14: loss on final training batch: 0.0073\n",
            "training accuracy: 99.92% validation accuracy: 63.21%\n",
            "Epoch 15: loss on final training batch: 0.0063\n",
            "training accuracy: 99.92% validation accuracy: 62.88%\n",
            "Epoch 16: loss on final training batch: 0.0056\n",
            "training accuracy: 99.92% validation accuracy: 62.88%\n",
            "Epoch 17: loss on final training batch: 0.0051\n",
            "training accuracy: 99.92% validation accuracy: 62.54%\n",
            "Epoch 18: loss on final training batch: 0.0046\n",
            "training accuracy: 99.92% validation accuracy: 62.88%\n",
            "Epoch 19: loss on final training batch: 0.0043\n",
            "training accuracy: 99.92% validation accuracy: 62.88%\n",
            "Epoch 20: loss on final training batch: 0.0039\n",
            "training accuracy: 99.92% validation accuracy: 63.21%\n",
            "Epoch 21: loss on final training batch: 0.0037\n",
            "training accuracy: 99.92% validation accuracy: 62.88%\n",
            "Epoch 22: loss on final training batch: 0.0034\n",
            "training accuracy: 99.92% validation accuracy: 62.54%\n",
            "Epoch 23: loss on final training batch: 0.0032\n",
            "training accuracy: 99.92% validation accuracy: 62.54%\n",
            "Epoch 24: loss on final training batch: 0.0030\n",
            "training accuracy: 99.92% validation accuracy: 62.54%\n",
            "Epoch 25: loss on final training batch: 0.0028\n",
            "training accuracy: 99.92% validation accuracy: 62.54%\n",
            "Epoch 26: loss on final training batch: 0.0027\n",
            "training accuracy: 99.92% validation accuracy: 62.88%\n",
            "Epoch 27: loss on final training batch: 0.0025\n",
            "training accuracy: 99.92% validation accuracy: 63.21%\n",
            "Epoch 28: loss on final training batch: 0.0024\n",
            "training accuracy: 99.92% validation accuracy: 63.21%\n",
            "Epoch 29: loss on final training batch: 0.0023\n",
            "training accuracy: 99.92% validation accuracy: 63.21%\n",
            "Epoch 30: loss on final training batch: 0.0022\n",
            "training accuracy: 99.92% validation accuracy: 63.21%\n",
            "Epoch 31: loss on final training batch: 0.0021\n",
            "training accuracy: 99.92% validation accuracy: 63.21%\n",
            "Epoch 32: loss on final training batch: 0.0020\n",
            "training accuracy: 99.92% validation accuracy: 63.21%\n",
            "Epoch 33: loss on final training batch: 0.0019\n",
            "training accuracy: 99.92% validation accuracy: 63.21%\n",
            "Epoch 34: loss on final training batch: 0.0018\n",
            "training accuracy: 99.92% validation accuracy: 63.21%\n",
            "Epoch 35: loss on final training batch: 0.0017\n",
            "training accuracy: 99.92% validation accuracy: 63.21%\n",
            "Epoch 36: loss on final training batch: 0.0017\n",
            "training accuracy: 99.92% validation accuracy: 63.55%\n",
            "Epoch 37: loss on final training batch: 0.0016\n",
            "training accuracy: 99.92% validation accuracy: 63.55%\n",
            "Epoch 38: loss on final training batch: 0.0015\n",
            "training accuracy: 99.92% validation accuracy: 63.55%\n",
            "Epoch 39: loss on final training batch: 0.0015\n",
            "training accuracy: 99.92% validation accuracy: 63.55%\n",
            "Epoch 40: loss on final training batch: 0.0014\n",
            "training accuracy: 99.92% validation accuracy: 63.21%\n",
            "Epoch 41: loss on final training batch: 0.0014\n",
            "training accuracy: 99.92% validation accuracy: 63.21%\n",
            "Epoch 42: loss on final training batch: 0.0013\n",
            "training accuracy: 99.92% validation accuracy: 63.21%\n",
            "Epoch 43: loss on final training batch: 0.0013\n",
            "training accuracy: 99.92% validation accuracy: 63.21%\n",
            "Epoch 44: loss on final training batch: 0.0012\n",
            "training accuracy: 99.92% validation accuracy: 63.21%\n",
            "Epoch 45: loss on final training batch: 0.0012\n",
            "training accuracy: 99.92% validation accuracy: 63.21%\n",
            "Epoch 46: loss on final training batch: 0.0011\n",
            "training accuracy: 99.92% validation accuracy: 63.21%\n",
            "Epoch 47: loss on final training batch: 0.0011\n",
            "training accuracy: 99.92% validation accuracy: 63.21%\n",
            "Epoch 48: loss on final training batch: 0.0011\n",
            "training accuracy: 99.92% validation accuracy: 63.21%\n",
            "Epoch 49: loss on final training batch: 0.0010\n",
            "training accuracy: 99.92% validation accuracy: 63.55%\n"
          ]
        }
      ],
      "source": [
        "X_train_2d = X_train.reshape((-1, 1, n_time, n_feat))\n",
        "#print(X_train.shape)\n",
        "X_val_2d = X_val.reshape((-1, 1, n_time, n_feat))\n",
        "training_loss_array, training_accuracy_array, validation_loss_array, validation_accuracy_array = trainers.SGD_trainer.train(model, (X_train_2d, y_train, X_val_2d, y_val), \n",
        "                  loss, optimizer, batch_size = batch_size, num_epoch = num_epoch, device='cuda', saved_model_name=saved_model_name)"
      ]
    },
    {
      "cell_type": "markdown",
      "id": "23e687bd",
      "metadata": {
        "id": "23e687bd"
      },
      "source": [
        "## Plot\n",
        "\n",
        "plot_numerical_arrays: plot multiple arrays with the same length\n",
        "\n",
        "parameters:\n",
        "- num_arrays: numerical arrays with the same length\n",
        "- labels: labels of each array(with the same order of num_arrays)\n",
        "- xlabel\n",
        "- ylabel\n",
        "- title"
      ]
    },
    {
      "cell_type": "code",
      "execution_count": 18,
      "id": "a4f272c1",
      "metadata": {
        "id": "a4f272c1",
        "colab": {
          "base_uri": "https://localhost:8080/",
          "height": 621
        },
        "outputId": "e64417af-9278-4efc-996b-e219b4d07a0f"
      },
      "outputs": [
        {
          "output_type": "display_data",
          "data": {
            "text/plain": [
              "<Figure size 1440x720 with 1 Axes>"
            ],
            "image/png": "[encoded data removed]"
          },
          "metadata": {
            "needs_background": "light"
          }
        }
      ],
      "source": [
        "plot_numerical_arrays([training_loss_array[10:], validation_loss_array[10:]], ['training loss', 'validation loss'], \n",
        "                      xlabel='batches', ylabel='loss', title='train and validation losses for ' + model_name)"
      ]
    },
    {
      "cell_type": "code",
      "execution_count": 19,
      "id": "c948f6f3",
      "metadata": {
        "id": "c948f6f3",
        "colab": {
          "base_uri": "https://localhost:8080/",
          "height": 621
        },
        "outputId": "2d9065f2-26a7-48c6-a372-8d3d7224e86c"
      },
      "outputs": [
        {
          "output_type": "display_data",
          "data": {
            "text/plain": [
              "<Figure size 1440x720 with 1 Axes>"
            ],
            "image/png": "[encoded data removed]"
          },
          "metadata": {
            "needs_background": "light"
          }
        }
      ],
      "source": [
        "plot_numerical_arrays([training_accuracy_array, validation_accuracy_array], ['training accuracy', 'validation accuracy'], \n",
        "                      xlabel='batches', ylabel='accuracy', title='train and validation accuracies for ' + model_name)"
      ]
    },
    {
      "cell_type": "code",
      "execution_count": 19,
      "id": "3918c6c7",
      "metadata": {
        "id": "3918c6c7"
      },
      "outputs": [],
      "source": [
        ""
      ]
    },
    {
      "cell_type": "code",
      "execution_count": 19,
      "id": "04594c6e",
      "metadata": {
        "id": "04594c6e"
      },
      "outputs": [],
      "source": [
        ""
      ]
    }
  ],
  "metadata": {
    "kernelspec": {
      "display_name": "Python 3 (ipykernel)",
      "language": "python",
      "name": "python3"
    },
    "language_info": {
      "codemirror_mode": {
        "name": "ipython",
        "version": 3
      },
      "file_extension": ".py",
      "mimetype": "text/x-python",
      "name": "python",
      "nbconvert_exporter": "python",
      "pygments_lexer": "ipython3",
      "version": "3.9.7"
    },
    "colab": {
      "name": "CNN2d_2CNNblock_training_wave.ipynb",
      "provenance": []
    },
    "accelerator": "GPU"
  },
  "nbformat": 4,
  "nbformat_minor": 5
}