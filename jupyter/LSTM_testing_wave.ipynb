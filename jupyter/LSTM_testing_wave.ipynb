{
  "cells": [
    {
      "cell_type": "code",
      "execution_count": 1,
      "id": "74ab77a0",
      "metadata": {
        "id": "74ab77a0"
      },
      "outputs": [],
      "source": [
        "import os"
      ]
    },
    {
      "cell_type": "code",
      "execution_count": 2,
      "id": "031503b1",
      "metadata": {
        "colab": {
          "base_uri": "https://localhost:8080/"
        },
        "id": "031503b1",
        "outputId": "e6417a65-8b78-45f5-acc9-340bff9fb911"
      },
      "outputs": [
        {
          "output_type": "stream",
          "name": "stdout",
          "text": [
            "Drive already mounted at /content/drive/; to attempt to forcibly remount, call drive.mount(\"/content/drive/\", force_remount=True).\n"
          ]
        },
        {
          "output_type": "execute_result",
          "data": {
            "text/plain": [
              "['processed_data',\n",
              " 'trainers',\n",
              " 'models',\n",
              " 'data_processor',\n",
              " 'data_loader',\n",
              " 'jupyter',\n",
              " 'loggers',\n",
              " 'saved_models',\n",
              " 'model']"
            ]
          },
          "metadata": {},
          "execution_count": 2
        }
      ],
      "source": [
        "os.chdir('..')\n",
        "# from google.colab import drive\n",
        "# drive.mount('/content/drive/')\n",
        "# os.chdir('/content/drive/MyDrive/Colab Notebooks/6321_project')\n",
        "os.listdir()"
      ]
    },
    {
      "cell_type": "code",
      "execution_count": 3,
      "id": "5c89e521",
      "metadata": {
        "id": "5c89e521"
      },
      "outputs": [],
      "source": [
        "from data_processor.utils import load_numpy_arrays, numpy_to_tensor\n",
        "from loggers.trainer_loggers import cal_accuracy\n",
        "from models.MusicLSTM import MusicLSTM\n",
        "import trainers.SGD_trainer\n",
        "import torch"
      ]
    },
    {
      "cell_type": "code",
      "execution_count": 4,
      "id": "43e033ea",
      "metadata": {
        "id": "43e033ea"
      },
      "outputs": [],
      "source": [
        "X_train, y_train, X_val, y_val, X_test, y_test = load_numpy_arrays(['data_train_X.npy','data_train_y.npy', 'data_val_X.npy','data_val_y.npy', 'data_test_X.npy', 'data_test_y.npy']\n",
        "                  , path_prefix='processed_data/processed_waves/10-genres/')\n",
        "X_train, y_train, X_val, y_val, X_test, y_test = numpy_to_tensor([X_train, y_train, X_val, y_val, X_test, y_test])"
      ]
    },
    {
      "cell_type": "code",
      "execution_count": 5,
      "id": "406c233b",
      "metadata": {
        "id": "406c233b"
      },
      "outputs": [],
      "source": [
        "model = MusicLSTM(input_size=40,\n",
        "        hidden_size=80,\n",
        "        output_size=10,\n",
        "        num_layers=5,\n",
        "        dropout=0.15\n",
        "    )"
      ]
    },
    {
      "cell_type": "code",
      "execution_count": 6,
      "id": "c0645286",
      "metadata": {
        "colab": {
          "base_uri": "https://localhost:8080/"
        },
        "id": "c0645286",
        "outputId": "cbf93ef4-0120-4c2f-85ac-e7bd82f83e01"
      },
      "outputs": [
        {
          "output_type": "execute_result",
          "data": {
            "text/plain": [
              "<All keys matched successfully>"
            ]
          },
          "metadata": {},
          "execution_count": 6
        }
      ],
      "source": [
        "model.load_state_dict(torch.load('saved_models/saved_LSTM_wave.pt'))"
      ]
    },
    {
      "cell_type": "code",
      "execution_count": 7,
      "id": "afc48e8b",
      "metadata": {
        "id": "afc48e8b"
      },
      "outputs": [],
      "source": [
        "#print('training accuracy: %.2f%%' % (cal_accuracy(model, X_train, y_train, True) * 100))"
      ]
    },
    {
      "cell_type": "code",
      "execution_count": 8,
      "id": "1880269c",
      "metadata": {
        "colab": {
          "base_uri": "https://localhost:8080/"
        },
        "id": "1880269c",
        "outputId": "2cc36750-30ea-497f-e775-898410793303"
      },
      "outputs": [
        {
          "output_type": "stream",
          "name": "stdout",
          "text": [
            "validation accuracy: 73.91%\n"
          ]
        }
      ],
      "source": [
        "print('validation accuracy: %.2f%%' % (cal_accuracy(model, X_val, y_val) * 100))"
      ]
    },
    {
      "cell_type": "code",
      "execution_count": 9,
      "id": "98db8c7f",
      "metadata": {
        "colab": {
          "base_uri": "https://localhost:8080/"
        },
        "id": "98db8c7f",
        "outputId": "6389c78a-e1b5-4c89-c6e4-684440588b23"
      },
      "outputs": [
        {
          "output_type": "stream",
          "name": "stdout",
          "text": [
            "testing accuracy: 72.24%\n"
          ]
        }
      ],
      "source": [
        "print('testing accuracy: %.2f%%' % (cal_accuracy(model, X_test, y_test) * 100))"
      ]
    }
  ],
  "metadata": {
    "kernelspec": {
      "display_name": "Python 3 (ipykernel)",
      "language": "python",
      "name": "python3"
    },
    "language_info": {
      "codemirror_mode": {
        "name": "ipython",
        "version": 3
      },
      "file_extension": ".py",
      "mimetype": "text/x-python",
      "name": "python",
      "nbconvert_exporter": "python",
      "pygments_lexer": "ipython3",
      "version": "3.9.7"
    },
    "colab": {
      "name": "LSTM_testing_wave.ipynb",
      "provenance": []
    },
    "accelerator": "GPU"
  },
  "nbformat": 4,
  "nbformat_minor": 5
}