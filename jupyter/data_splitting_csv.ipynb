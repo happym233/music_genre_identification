{
 "cells": [
  {
   "cell_type": "code",
   "execution_count": 1,
   "id": "fe0ce6ef",
   "metadata": {},
   "outputs": [],
   "source": [
    "import os"
   ]
  },
  {
   "cell_type": "code",
   "execution_count": 2,
   "id": "9891b5d8",
   "metadata": {},
   "outputs": [],
   "source": [
    "os.chdir('..')"
   ]
  },
  {
   "cell_type": "code",
   "execution_count": 3,
   "id": "bd3f8630",
   "metadata": {},
   "outputs": [
    {
     "data": {
      "text/plain": [
       "['.git',\n",
       " '.gitignore',\n",
       " '.idea',\n",
       " 'data_loader',\n",
       " 'data_processor',\n",
       " 'jupyter',\n",
       " 'loggers',\n",
       " 'main.py',\n",
       " 'models',\n",
       " 'original_data',\n",
       " 'processed_data',\n",
       " 'README.md',\n",
       " 'requirements.txt',\n",
       " 'saved_models',\n",
       " 'trainers']"
      ]
     },
     "execution_count": 3,
     "metadata": {},
     "output_type": "execute_result"
    }
   ],
   "source": [
    "os.listdir()"
   ]
  },
  {
   "cell_type": "code",
   "execution_count": 4,
   "id": "b4b1bcc8",
   "metadata": {},
   "outputs": [],
   "source": [
    "from data_loader.music_csv_loader import load_wave_csv\n",
    "from data_processor.utils import split_data, normalize_data, numpy_to_tensor, save_numpy_arrays, load_numpy_arrays\n",
    "import numpy as np"
   ]
  },
  {
   "cell_type": "code",
   "execution_count": 5,
   "id": "6ec5a222",
   "metadata": {},
   "outputs": [],
   "source": [
    "X, y = load_wave_csv('original_data/features_30_sec.csv', labels=['rock', 'classical', 'metal', 'disco', 'blues', 'reggae', 'country', 'hiphop', 'jazz', 'pop'])\n",
    "#print(X)\n",
    "#print(y)"
   ]
  },
  {
   "cell_type": "code",
   "execution_count": 6,
   "id": "347bb6bc",
   "metadata": {},
   "outputs": [
    {
     "name": "stdout",
     "output_type": "stream",
     "text": [
      "(800, 57)\n",
      "(100, 57)\n",
      "(100, 57)\n"
     ]
    }
   ],
   "source": [
    "X_train, y_train, X_val, y_val, X_test, y_test = split_data(X, y, [8, 1, 1])\n",
    "print(X_train.shape)\n",
    "print(X_val.shape)\n",
    "print(X_test.shape)"
   ]
  },
  {
   "cell_type": "code",
   "execution_count": 7,
   "id": "93b916a2",
   "metadata": {},
   "outputs": [],
   "source": [
    "X_train, X_val, X_test = normalize_data([X_train, X_val, X_test])"
   ]
  },
  {
   "cell_type": "code",
   "execution_count": 8,
   "id": "a2c24425",
   "metadata": {},
   "outputs": [],
   "source": [
    "save_numpy_arrays([np.hstack([X_train, y_train]), np.hstack([X_val, y_val]), np.hstack([X_test, y_test])], \n",
    "                  ['data_train.npy', 'data_val.npy', 'data_test.npy'],\n",
    "                 path_prefix='processed_data/processed_features/10-genres/')"
   ]
  },
  {
   "cell_type": "code",
   "execution_count": 9,
   "id": "ce90f9b9",
   "metadata": {},
   "outputs": [],
   "source": [
    "data_train, data_val, data_test = load_numpy_arrays(['data_train.npy', 'data_val.npy', 'data_test.npy'], \n",
    "                                                    path_prefix='processed_data/processed_features/10-genres/')"
   ]
  },
  {
   "cell_type": "code",
   "execution_count": 10,
   "id": "dbb54675",
   "metadata": {},
   "outputs": [
    {
     "name": "stdout",
     "output_type": "stream",
     "text": [
      "[[ 0.44302325  0.76893846  1.18544242 ...  0.07092726 -0.05395535\n",
      "   7.        ]\n",
      " [ 0.339283   -0.62832103 -0.40956992 ... -0.55179182 -0.61505402\n",
      "   9.        ]\n",
      " [ 1.20515871  1.47103174  1.84748428 ... -0.21925893  0.46618937\n",
      "   7.        ]\n",
      " ...\n",
      " [ 1.1871684  -0.286131    1.18536323 ... -0.68502434 -0.83890545\n",
      "   4.        ]\n",
      " [ 1.15218782 -0.58831921  1.4769098  ...  0.19210501 -0.29893954\n",
      "   4.        ]\n",
      " [ 1.87258547 -2.28915135  0.83728434 ...  1.19366551 -0.81508513\n",
      "   6.        ]]\n"
     ]
    }
   ],
   "source": [
    "print(data_train)"
   ]
  },
  {
   "cell_type": "code",
   "execution_count": null,
   "id": "03c3cbe0",
   "metadata": {},
   "outputs": [],
   "source": []
  }
 ],
 "metadata": {
  "kernelspec": {
   "display_name": "Python 3 (ipykernel)",
   "language": "python",
   "name": "python3"
  },
  "language_info": {
   "codemirror_mode": {
    "name": "ipython",
    "version": 3
   },
   "file_extension": ".py",
   "mimetype": "text/x-python",
   "name": "python",
   "nbconvert_exporter": "python",
   "pygments_lexer": "ipython3",
   "version": "3.9.7"
  }
 },
 "nbformat": 4,
 "nbformat_minor": 5
}
